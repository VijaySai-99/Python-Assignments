{
 "cells": [
  {
   "cell_type": "code",
   "execution_count": 24,
   "id": "2368b76f-412a-434a-afd8-89d36d5b36cf",
   "metadata": {},
   "outputs": [],
   "source": [
    "###Basic If-Else Statements ASSIGNMENT :\n",
    "#1. Write a Python program to check if a given number is positive or negative.\n",
    "#2. Create a program that determines if a person is eligible to vote based on their age.\n",
    "#3. Develop a program to find the maximum of two numbers using if-else statements.\n",
    "#4. Write a Python script to classify a given year as a leap year or not.\n",
    "#5. Create a program that checks whether a character is a vowel or a consonant.\n",
    "#6. Implement a program to determine whether a given number is even or odd.\n",
    "#7. Write a Python function to calculate the absolute value of a number without using the `abs()` function.\n",
    "#8. Develop a program that determines the largest of three given numbers using if-else statements.\n",
    "#9. Create a program that checks if a given string is a palindrome.\n",
    "#10. Write a Python program to calculate the grade based on a student's score."
   ]
  },
  {
   "cell_type": "code",
   "execution_count": 23,
   "id": "50702213-8929-451e-a7e0-0d44b7face18",
   "metadata": {},
   "outputs": [
    {
     "name": "stdin",
     "output_type": "stream",
     "text": [
      "Enter a number:  -99\n"
     ]
    },
    {
     "name": "stdout",
     "output_type": "stream",
     "text": [
      "Negative number\n"
     ]
    }
   ],
   "source": [
    "#Check if a given number is positive or negative:\n",
    "\n",
    "number = float(input(\"Enter a number: \"))\n",
    "if number > 0:\n",
    "    print(\"Positive number\")\n",
    "elif number < 0:\n",
    "    print(\"Negative number\")\n",
    "else:\n",
    "    print(\"Zero\")\n"
   ]
  },
  {
   "cell_type": "code",
   "execution_count": 5,
   "id": "03bddcbc-fc68-46f4-9234-122dc180d2ff",
   "metadata": {},
   "outputs": [
    {
     "name": "stdin",
     "output_type": "stream",
     "text": [
      "Enter your age:  24\n"
     ]
    },
    {
     "name": "stdout",
     "output_type": "stream",
     "text": [
      "You are eligible to vote.\n"
     ]
    }
   ],
   "source": [
    "#Determine if a person is eligible to vote based on age:\n",
    "\n",
    "age = int(input(\"Enter your age: \"))\n",
    "if age >= 18:\n",
    "    print(\"You are eligible to vote.\")\n",
    "else:\n",
    "    print(\"You are not eligible to vote yet.\")\n"
   ]
  },
  {
   "cell_type": "code",
   "execution_count": 6,
   "id": "ceebbb67-8f36-407e-8af4-99c77940229e",
   "metadata": {},
   "outputs": [
    {
     "name": "stdin",
     "output_type": "stream",
     "text": [
      "Enter the first number:  299\n",
      "Enter the second number:  4099\n"
     ]
    },
    {
     "name": "stdout",
     "output_type": "stream",
     "text": [
      "Maximum is: 4099.0\n"
     ]
    }
   ],
   "source": [
    "#Find the maximum of two numbers:\n",
    "\n",
    "num1 = float(input(\"Enter the first number: \"))\n",
    "num2 = float(input(\"Enter the second number: \"))\n",
    "if num1 > num2:\n",
    "    print(\"Maximum is:\", num1)\n",
    "else:\n",
    "    print(\"Maximum is:\", num2)\n"
   ]
  },
  {
   "cell_type": "code",
   "execution_count": 7,
   "id": "2cacd673-c296-4798-b164-b444d695a10c",
   "metadata": {},
   "outputs": [
    {
     "name": "stdin",
     "output_type": "stream",
     "text": [
      "Enter a year:  1999\n"
     ]
    },
    {
     "name": "stdout",
     "output_type": "stream",
     "text": [
      "Not a leap year\n"
     ]
    }
   ],
   "source": [
    "#Classify a given year as a leap year or not:\n",
    "\n",
    "year = int(input(\"Enter a year: \"))\n",
    "if (year % 4 == 0 and year % 100 != 0) or (year % 400 == 0):\n",
    "    print(\"Leap year\")\n",
    "else:\n",
    "    print(\"Not a leap year\")"
   ]
  },
  {
   "cell_type": "code",
   "execution_count": 13,
   "id": "9dc71819-2f45-4551-8958-f2e6fadf78a1",
   "metadata": {},
   "outputs": [
    {
     "name": "stdin",
     "output_type": "stream",
     "text": [
      "Enter a character:  P\n"
     ]
    },
    {
     "name": "stdout",
     "output_type": "stream",
     "text": [
      "Consonant\n"
     ]
    }
   ],
   "source": [
    "#Check if a character is a vowel or a consonant:\n",
    "\n",
    "char = input(\"Enter a character: \").lower()\n",
    "if char.isalpha():\n",
    "    if char in 'aeiou':\n",
    "        print(\"Vowel\")\n",
    "    else:\n",
    "        print(\"Consonant\")\n",
    "else:\n",
    "    print(\"Not a valid character\")"
   ]
  },
  {
   "cell_type": "code",
   "execution_count": 14,
   "id": "7ea38a47-2aa6-4299-9c61-2be469341462",
   "metadata": {},
   "outputs": [
    {
     "name": "stdin",
     "output_type": "stream",
     "text": [
      "Enter a number:  99\n"
     ]
    },
    {
     "name": "stdout",
     "output_type": "stream",
     "text": [
      "Odd number\n"
     ]
    }
   ],
   "source": [
    "#Determine if a given number is even or odd:\n",
    "\n",
    "number = int(input(\"Enter a number: \"))\n",
    "if number % 2 == 0:\n",
    "    print(\"Even number\")\n",
    "else:\n",
    "    print(\"Odd number\")"
   ]
  },
  {
   "cell_type": "code",
   "execution_count": 18,
   "id": "b9688559-87c4-4f1b-bb33-7962467c000c",
   "metadata": {},
   "outputs": [
    {
     "name": "stdin",
     "output_type": "stream",
     "text": [
      "Enter a number:  -25\n"
     ]
    },
    {
     "name": "stdout",
     "output_type": "stream",
     "text": [
      "Absolute value: 25.0\n"
     ]
    }
   ],
   "source": [
    "#Calculate the absolute value of a number:\n",
    "\n",
    "number = float(input(\"Enter a number: \"))\n",
    "if number < 0:\n",
    "    absolute_value = -number\n",
    "else:\n",
    "    absolute_value = number\n",
    "print(\"Absolute value:\", absolute_value)"
   ]
  },
  {
   "cell_type": "code",
   "execution_count": 19,
   "id": "9b6b8386-55f0-49f7-a4bf-44c0e1db75b7",
   "metadata": {},
   "outputs": [
    {
     "name": "stdin",
     "output_type": "stream",
     "text": [
      "Enter the first number:  33\n",
      "Enter the second number:  44\n",
      "Enter the third number:  11\n"
     ]
    },
    {
     "name": "stdout",
     "output_type": "stream",
     "text": [
      "Largest is: 44.0\n"
     ]
    }
   ],
   "source": [
    "#Determine the largest of three given numbers:\n",
    "\n",
    "num1 = float(input(\"Enter the first number: \"))\n",
    "num2 = float(input(\"Enter the second number: \"))\n",
    "num3 = float(input(\"Enter the third number: \"))\n",
    "if num1 >= num2 and num1 >= num3:\n",
    "    print(\"Largest is:\", num1)\n",
    "elif num2 >= num1 and num2 >= num3:\n",
    "    print(\"Largest is:\", num2)\n",
    "else:\n",
    "    print(\"Largest is:\", num3)"
   ]
  },
  {
   "cell_type": "code",
   "execution_count": 21,
   "id": "58ecfe43-4692-4a7c-8c34-6e96be2ad284",
   "metadata": {},
   "outputs": [
    {
     "name": "stdin",
     "output_type": "stream",
     "text": [
      "Enter a string:  PWSKILLS\n"
     ]
    },
    {
     "name": "stdout",
     "output_type": "stream",
     "text": [
      "Not a palindrome\n"
     ]
    }
   ],
   "source": [
    "#Check if a given string is a palindrome:\n",
    "\n",
    "string = input(\"Enter a string: \")\n",
    "if string == string[::-1]:\n",
    "    print(\"Palindrome\")\n",
    "else:\n",
    "    print(\"Not a palindrome\")"
   ]
  },
  {
   "cell_type": "code",
   "execution_count": 22,
   "id": "a9ba1532-7803-4b30-bffc-4598e056542e",
   "metadata": {},
   "outputs": [
    {
     "name": "stdin",
     "output_type": "stream",
     "text": [
      "Enter the student's score:  98\n"
     ]
    },
    {
     "name": "stdout",
     "output_type": "stream",
     "text": [
      "Grade: A\n"
     ]
    }
   ],
   "source": [
    "#Calculate the grade based on a student's score:\n",
    "\n",
    "score = float(input(\"Enter the student's score: \"))\n",
    "if 90 <= score <= 100:\n",
    "    grade = 'A'\n",
    "elif 80 <= score < 90:\n",
    "    grade = 'B'\n",
    "elif 70 <= score < 80:\n",
    "    grade = 'C'\n",
    "elif 60 <= score < 70:\n",
    "    grade = 'D'\n",
    "elif 0 <= score < 60:\n",
    "    grade = 'F'\n",
    "else:\n",
    "    print(\"Invalid score\")\n",
    "    exit()\n",
    "print(\"Grade:\", grade)"
   ]
  },
  {
   "cell_type": "code",
   "execution_count": null,
   "id": "46dc2597-806d-4f94-8175-4417372ffdf4",
   "metadata": {},
   "outputs": [],
   "source": [
    "\n",
    "\n",
    "###Nested If-Else Statements:\n",
    "#11. Write a program to find the largest among three numbers using nested if-else statements.\n",
    "#12. Implement a program to determine if a triangle is equilateral, isosceles, or scalene.\n",
    "#13. Develop a program that checks if a year is a leap year and also if it is a century year.\n",
    "#14. Write a Python script to determine if a number is positive, negative, or zero.\n",
    "#15. Create a program to check if a person is a teenager (between 13 and 19 years old).\n",
    "#16. Develop a program that determines the type of angle based on its measure (acute, obtuse, or right).\n",
    "#17. Write a Python program to calculate the roots of a quadratic equation.\n",
    "#18. Implement a program to determine the day of the week based on a user-provided number (1 for Monday, 2 for Tuesday, etc.).\n",
    "#19. Create a program that determines if a year is a leap year and also if it is evenly divisible by 400.\n",
    "#20. Develop a program that checks if a given number is prime or not using nested if-else statements."
   ]
  },
  {
   "cell_type": "code",
   "execution_count": 25,
   "id": "d8c6427d-571f-4e3a-9b3a-a8f52a70ec84",
   "metadata": {},
   "outputs": [
    {
     "name": "stdin",
     "output_type": "stream",
     "text": [
      "Enter the first number:  23\n",
      "Enter the second number:  12\n",
      "Enter the third number:  13\n"
     ]
    },
    {
     "name": "stdout",
     "output_type": "stream",
     "text": [
      "The largest number is: 23\n"
     ]
    }
   ],
   "source": [
    "#11. Finding the largest among three numbers:\n",
    "\n",
    "num1 = int(input(\"Enter the first number: \"))\n",
    "num2 = int(input(\"Enter the second number: \"))\n",
    "num3 = int(input(\"Enter the third number: \"))\n",
    "\n",
    "if num1 >= num2:\n",
    "    if num1 >= num3:\n",
    "        largest = num1\n",
    "    else:\n",
    "        largest = num3\n",
    "else:\n",
    "    if num2 >= num3:\n",
    "        largest = num2\n",
    "    else:\n",
    "        largest = num3\n",
    "\n",
    "print(\"The largest number is:\", largest)"
   ]
  },
  {
   "cell_type": "code",
   "execution_count": 26,
   "id": "b79efda7-960d-44c9-ba43-bcec0a7b8733",
   "metadata": {},
   "outputs": [
    {
     "name": "stdin",
     "output_type": "stream",
     "text": [
      "Enter the first side:  25\n",
      "Enter the second side:  45\n",
      "Enter the third side:  90\n"
     ]
    },
    {
     "name": "stdout",
     "output_type": "stream",
     "text": [
      "The triangle is scalene.\n"
     ]
    }
   ],
   "source": [
    "#12. Determining the type of triangle:\n",
    "\n",
    "side1 = int(input(\"Enter the first side: \"))\n",
    "side2 = int(input(\"Enter the second side: \"))\n",
    "side3 = int(input(\"Enter the third side: \"))\n",
    "\n",
    "if side1 == side2 == side3:\n",
    "    print(\"The triangle is equilateral.\")\n",
    "elif side1 == side2 or side1 == side3 or side2 == side3:\n",
    "    print(\"The triangle is isosceles.\")\n",
    "else:\n",
    "    print(\"The triangle is scalene.\")"
   ]
  },
  {
   "cell_type": "code",
   "execution_count": 27,
   "id": "91b2ac81-1b1f-4656-8ab2-0535a1ce3b06",
   "metadata": {},
   "outputs": [
    {
     "name": "stdin",
     "output_type": "stream",
     "text": [
      "Enter a year:  2023\n"
     ]
    },
    {
     "name": "stdout",
     "output_type": "stream",
     "text": [
      "2023 is not a leap year.\n"
     ]
    }
   ],
   "source": [
    "#13. Checking for leap year and century year:\n",
    "\n",
    "year = int(input(\"Enter a year: \"))\n",
    "\n",
    "if year % 4 == 0:\n",
    "    if year % 100 == 0:\n",
    "        if year % 400 == 0:\n",
    "            print(year, \"is a leap year and a century year.\")\n",
    "        else:\n",
    "            print(year, \"is a century year but not a leap year.\")\n",
    "    else:\n",
    "        print(year, \"is a leap year but not a century year.\")\n",
    "else:\n",
    "    print(year, \"is not a leap year.\")"
   ]
  },
  {
   "cell_type": "code",
   "execution_count": 28,
   "id": "9a64d746-2f2c-4dfa-b232-7df15ce8b53a",
   "metadata": {},
   "outputs": [
    {
     "name": "stdin",
     "output_type": "stream",
     "text": [
      "Enter a number:  00\n"
     ]
    },
    {
     "name": "stdout",
     "output_type": "stream",
     "text": [
      "The number is zero.\n"
     ]
    }
   ],
   "source": [
    "#14. Determining the sign of a number:\n",
    "\n",
    "number = int(input(\"Enter a number: \"))\n",
    "\n",
    "if number > 0:\n",
    "    print(\"The number is positive.\")\n",
    "elif number < 0:\n",
    "    print(\"The number is negative.\")\n",
    "else:\n",
    "    print(\"The number is zero.\")"
   ]
  },
  {
   "cell_type": "code",
   "execution_count": 29,
   "id": "8657ded7-8987-4155-b013-e14703691e57",
   "metadata": {},
   "outputs": [
    {
     "name": "stdin",
     "output_type": "stream",
     "text": [
      "Enter your age:  24\n"
     ]
    },
    {
     "name": "stdout",
     "output_type": "stream",
     "text": [
      "You are not a teenager.\n"
     ]
    }
   ],
   "source": [
    "#15. Checking if a person is a teenager:\n",
    "\n",
    "age = int(input(\"Enter your age: \"))\n",
    "\n",
    "if 13 <= age <= 19:\n",
    "    print(\"You are a teenager.\")\n",
    "else:\n",
    "    print(\"You are not a teenager.\")"
   ]
  },
  {
   "cell_type": "code",
   "execution_count": 30,
   "id": "2fd5478b-6fd6-4e91-9a07-faf28d6312e4",
   "metadata": {},
   "outputs": [
    {
     "name": "stdin",
     "output_type": "stream",
     "text": [
      "Enter the angle measure:  90\n"
     ]
    },
    {
     "name": "stdout",
     "output_type": "stream",
     "text": [
      "The angle is right.\n"
     ]
    }
   ],
   "source": [
    "#16. Determining the type of angle:\n",
    "\n",
    "angle = int(input(\"Enter the angle measure: \"))\n",
    "\n",
    "if angle < 90:\n",
    "    print(\"The angle is acute.\")\n",
    "elif angle == 90:\n",
    "    print(\"The angle is right.\")\n",
    "else:\n",
    "    print(\"The angle is obtuse.\")"
   ]
  },
  {
   "cell_type": "code",
   "execution_count": 32,
   "id": "34d59c43-34a9-438f-95a4-8fb6835bc018",
   "metadata": {},
   "outputs": [
    {
     "name": "stdin",
     "output_type": "stream",
     "text": [
      "Enter the coefficient of x^2:  3\n",
      "Enter the coefficient of x:  4\n",
      "Enter the constant term:  5\n"
     ]
    },
    {
     "name": "stdout",
     "output_type": "stream",
     "text": [
      "The roots are complex and different: -0.6666666666666666 + 1.1055415967851332 i and -0.6666666666666666 - 1.1055415967851332 i\n"
     ]
    }
   ],
   "source": [
    "#17. Calculating roots of a quadratic equation:\n",
    "import math\n",
    "\n",
    "a = float(input(\"Enter the coefficient of x^2: \"))\n",
    "b = float(input(\"Enter the coefficient of x: \"))\n",
    "c = float(input(\"Enter the constant term: \"))\n",
    "\n",
    "discriminant = b**2 - 4*a*c\n",
    "\n",
    "if discriminant > 0:\n",
    "    root1 = (-b + math.sqrt(discriminant)) / (2*a)\n",
    "    root2 = (-b - math.sqrt(discriminant)) / (2*a)\n",
    "    print(\"The roots are real and different:\", root1, root2)\n",
    "elif discriminant == 0:\n",
    "    root1 = root2 = -b / (2*a)\n",
    "    print(\"The roots are real and equal:\", root1)\n",
    "else:\n",
    "    realPart = -b / (2*a)\n",
    "    imaginaryPart = math.sqrt(-discriminant) / (2*a)\n",
    "    print(\"The roots are complex and different:\", realPart, \"+\", imaginaryPart, \"i\", \"and\", realPart, \"-\", imaginaryPart, \"i\")"
   ]
  },
  {
   "cell_type": "code",
   "execution_count": 33,
   "id": "1743f978-e344-4c29-aae2-5623c664c4ae",
   "metadata": {},
   "outputs": [
    {
     "name": "stdin",
     "output_type": "stream",
     "text": [
      "Enter a number (1-7) for the day of the week:  4\n"
     ]
    },
    {
     "name": "stdout",
     "output_type": "stream",
     "text": [
      "The day of the week is: Thursday\n"
     ]
    }
   ],
   "source": [
    "#18. Determining the day of the week:\n",
    "\n",
    "day_number = int(input(\"Enter a number (1-7) for the day of the week: \"))\n",
    "\n",
    "if day_number == 1:\n",
    "    day_name = \"Monday\"\n",
    "\n",
    "elif day_number == 2:\n",
    "    day_name = \"Tuesday\"\n",
    "\n",
    "elif day_number == 3:\n",
    "    day_name = \"Wednesday\"\n",
    "\n",
    "elif day_number == 4:\n",
    "    day_name = \"Thursday\"\n",
    "\n",
    "elif day_number == 5:\n",
    "    day_name = \"Friday\"\n",
    "\n",
    "elif day_number == 6:\n",
    "    day_name = \"Saturday\"\n",
    "\n",
    "elif day_number == 7:\n",
    "    day_name = \"Sunday\"\n",
    "else:\n",
    "    day_name = \"Invalid day number\"\n",
    "\n",
    "print(\"The day of the week is:\", day_name)"
   ]
  },
  {
   "cell_type": "code",
   "execution_count": 34,
   "id": "07863f4b-6b96-4c8f-958a-10b62af1c063",
   "metadata": {},
   "outputs": [
    {
     "name": "stdin",
     "output_type": "stream",
     "text": [
      "Enter a year:  2024\n"
     ]
    },
    {
     "name": "stdout",
     "output_type": "stream",
     "text": [
      "2024 is a leap year and not a century year.\n"
     ]
    }
   ],
   "source": [
    "#19. Checking for leap year and divisibility by 400:\n",
    "\n",
    "year = int(input(\"Enter a year: \"))\n",
    "\n",
    "if year % 4 == 0:\n",
    "    if year % 100 == 0:\n",
    "        if year % 400 == 0:\n",
    "            print(year, \"is a leap year and evenly divisible by 400.\")\n",
    "        else:\n",
    "            print(year, \"is a leap year but not evenly divisible by 400.\")\n",
    "    else:\n",
    "        print(year, \"is a leap year and not a century year.\")\n",
    "else:\n",
    "    print(year, \"is not a leap year.\")"
   ]
  },
  {
   "cell_type": "code",
   "execution_count": 47,
   "id": "dfb77be9-60d2-4672-adcb-0497c5a3f588",
   "metadata": {},
   "outputs": [
    {
     "name": "stdin",
     "output_type": "stream",
     "text": [
      "Enter a number:  23\n"
     ]
    },
    {
     "name": "stdout",
     "output_type": "stream",
     "text": [
      "23 is a prime number.\n"
     ]
    }
   ],
   "source": [
    "#20. Checking for prime number:\n",
    "\n",
    "num = int(input(\"Enter a number: \"))\n",
    "\n",
    "if num > 1:\n",
    "    # Check for factors\n",
    "    for i in range(2, int(num**0.5) + 1):\n",
    "        if num % i == 0:\n",
    "            print(f\"{num} is not a prime number.\")\n",
    "            break\n",
    "    else:\n",
    "        print(f\"{num} is a prime number.\")\n",
    "else:\n",
    "    print(f\"{num} is not a prime number.\")"
   ]
  },
  {
   "cell_type": "code",
   "execution_count": 48,
   "id": "90a840a2-b79d-43eb-b677-06e34e3fdf0a",
   "metadata": {},
   "outputs": [],
   "source": [
    "\n",
    "\n",
    "####Elif Statements:\n",
    "#21. Write a Python program to assign grades based on different ranges of scores using elif statements.\n",
    "#22. Implement a program to determine the type of a triangle based on its angles.\n",
    "#23. Develop a program to categorize a given person's BMI into underweight, normal, overweight, or obese using elif statements.\n",
    "#24. Create a program that determines whether a given number is positive, negative, or zero using elif statements.\n",
    "#25. Write a Python script to determine the type of a character (uppercase, lowercase, or special) using eliF statements.\n",
    "#26. Implement a program to calculate the discounted price based on different purchase amounts using elif statements.\n",
    "#27. Develop a program to calculate the electricity bill based on different consumption slabs using elif statements.\n",
    "#28. Create a program to determine the type of quadrilateral based on its angles and sides using elif statements.\n",
    "#29. Write a Python script to determine the season based on a user-provided month using elif statements.\n",
    "#30. Implement a program to determine the type of a year (leap or common) and month (30 or 31 days) using elif statements."
   ]
  },
  {
   "cell_type": "code",
   "execution_count": 49,
   "id": "13251367-1812-40d2-bce6-be75bd45abeb",
   "metadata": {},
   "outputs": [
    {
     "name": "stdin",
     "output_type": "stream",
     "text": [
      "Enter your score:  95\n"
     ]
    },
    {
     "name": "stdout",
     "output_type": "stream",
     "text": [
      "Your score of 95 corresponds to a grade of A.\n"
     ]
    }
   ],
   "source": [
    "#21. Assigning grades based on scores:\n",
    "\n",
    "score = int(input(\"Enter your score: \"))\n",
    "\n",
    "if score >= 90:\n",
    "    grade = \"A\"\n",
    "\n",
    "elif score >= 80:\n",
    "    grade = \"B\"\n",
    "\n",
    "elif score >= 70:\n",
    "    grade = \"C\"\n",
    "\n",
    "elif score >= 60:\n",
    "    grade = \"D\"\n",
    "\n",
    "else:\n",
    "    grade = \"F\"\n",
    "\n",
    "print(f\"Your score of {score} corresponds to a grade of {grade}.\")"
   ]
  },
  {
   "cell_type": "code",
   "execution_count": 51,
   "id": "13d37e4a-8ec3-4cfc-aca3-adae03856ac8",
   "metadata": {},
   "outputs": [
    {
     "name": "stdin",
     "output_type": "stream",
     "text": [
      "Enter the first angle:  45\n",
      "Enter the second angle:  45\n",
      "Enter the third angle:  90\n"
     ]
    },
    {
     "name": "stdout",
     "output_type": "stream",
     "text": [
      "Isosceles triangle\n"
     ]
    }
   ],
   "source": [
    "#22. Determining triangle type based on angles:\n",
    "\n",
    "angle1 = int(input(\"Enter the first angle: \"))\n",
    "angle2 = int(input(\"Enter the second angle: \"))\n",
    "angle3 = int(input(\"Enter the third angle: \"))\n",
    "\n",
    "if angle1 + angle2 + angle3 != 180:\n",
    "    print(\"Invalid triangle: Angles must sum to 180 degrees.\")\n",
    "else:\n",
    "    if angle1 == angle2 == angle3:\n",
    "        print(\"Equilateral triangle\")\n",
    "    elif angle1 == angle2 or angle1 == angle3 or angle2 == angle3:\n",
    "        print(\"Isosceles triangle\")\n",
    "    else:\n",
    "        print(\"Scalene triangle\")"
   ]
  },
  {
   "cell_type": "code",
   "execution_count": 61,
   "id": "4ee8f135-9887-47fe-bb6b-a70a69cd6fdc",
   "metadata": {},
   "outputs": [
    {
     "name": "stdin",
     "output_type": "stream",
     "text": [
      "Enter your weight in kg:  80\n",
      "Enter your height in centimeters:  184\n"
     ]
    },
    {
     "name": "stdout",
     "output_type": "stream",
     "text": [
      "Your BMI is 23.63, which classifies you as Normal weight.\n"
     ]
    }
   ],
   "source": [
    "#23. Categorizing BMI:\n",
    "\n",
    "weight = float(input(\"Enter your weight in kg: \"))\n",
    "height = float(input(\"Enter your height in centimeters: \")) / 100  # Convert height to meters\n",
    "\n",
    "# Corrected BMI calculation\n",
    "bmi = weight / (height ** 2)\n",
    "\n",
    "if bmi < 18.5:\n",
    "    category = \"Underweight\"\n",
    "elif 18.5 <= bmi < 25:\n",
    "    category = \"Normal weight\"\n",
    "elif 25 <= bmi < 30:\n",
    "    category = \"Overweight\"\n",
    "else:\n",
    "    category = \"Obese\"\n",
    "\n",
    "print(f\"Your BMI is {bmi:.2f}, which classifies you as {category}.\")"
   ]
  },
  {
   "cell_type": "code",
   "execution_count": 57,
   "id": "11e784de-aad2-4f8e-a7ff-f17d19332e5e",
   "metadata": {},
   "outputs": [
    {
     "name": "stdin",
     "output_type": "stream",
     "text": [
      "Enter a number:  33\n"
     ]
    },
    {
     "name": "stdout",
     "output_type": "stream",
     "text": [
      "33 is positive.\n"
     ]
    }
   ],
   "source": [
    "#24. Determining number sign with elif:\n",
    "\n",
    "number = int(input(\"Enter a number: \"))\n",
    "\n",
    "if number > 0:\n",
    "    print(f\"{number} is positive.\")\n",
    "elif number < 0:\n",
    "    print(f\"{number} is negative.\")\n",
    "else:\n",
    "    print(f\"{number} is zero.\")"
   ]
  },
  {
   "cell_type": "code",
   "execution_count": 59,
   "id": "46c90088-6e35-44ed-b6cc-5efee1f87db7",
   "metadata": {},
   "outputs": [
    {
     "name": "stdin",
     "output_type": "stream",
     "text": [
      "Enter a character:  @\n"
     ]
    },
    {
     "name": "stdout",
     "output_type": "stream",
     "text": [
      "@ is a special character.\n"
     ]
    }
   ],
   "source": [
    "#25. Identifying character type:\n",
    "\n",
    "character = input(\"Enter a character: \")\n",
    "\n",
    "if character.isupper():\n",
    "    print(f\"{character} is an uppercase letter.\")\n",
    "elif character.islower():\n",
    "    print(f\"{character} is a lowercase letter.\")\n",
    "else:\n",
    "    print(f\"{character} is a special character.\")"
   ]
  },
  {
   "cell_type": "code",
   "execution_count": 62,
   "id": "eafe7ea8-3f85-4dcb-9cd7-f9a694e77bb1",
   "metadata": {},
   "outputs": [
    {
     "name": "stdin",
     "output_type": "stream",
     "text": [
      "Enter the original price:  200\n"
     ]
    },
    {
     "name": "stdout",
     "output_type": "stream",
     "text": [
      "Discounted price: 180.00\n"
     ]
    }
   ],
   "source": [
    "#26. Calculating discounted price:\n",
    "\n",
    "original_price = float(input(\"Enter the original price: \"))\n",
    "\n",
    "if original_price >= 1000:\n",
    "    discount = 0.25  # 25% discount\n",
    "elif original_price >= 500:\n",
    "    discount = 0.15  # 15% discount\n",
    "else:\n",
    "    discount = 0.10  # 10% discount\n",
    "\n",
    "discounted_price = original_price * (1 - discount)\n",
    "print(f\"Discounted price: {discounted_price:.2f}\")"
   ]
  },
  {
   "cell_type": "code",
   "execution_count": 63,
   "id": "409d7f47-1ae8-460b-91bb-6627d9f369a0",
   "metadata": {},
   "outputs": [
    {
     "name": "stdin",
     "output_type": "stream",
     "text": [
      "Enter the number of units consumed:  20\n"
     ]
    },
    {
     "name": "stdout",
     "output_type": "stream",
     "text": [
      "Electricity bill amount: 50.00\n"
     ]
    }
   ],
   "source": [
    "#27. Calculating electricity bill:\n",
    "\n",
    "units = int(input(\"Enter the number of units consumed: \"))\n",
    "\n",
    "if units <= 50:\n",
    "    price_per_unit = 2.50\n",
    "elif units <= 100:\n",
    "    price_per_unit = 3.50\n",
    "elif units <= 200:\n",
    "    price_per_unit = 5.00\n",
    "else:\n",
    "    price_per_unit = 6.50\n",
    "\n",
    "bill_amount = units * price_per_unit\n",
    "print(f\"Electricity bill amount: {bill_amount:.2f}\")"
   ]
  },
  {
   "cell_type": "code",
   "execution_count": 66,
   "id": "8c1b2fe0-0698-4b42-94d9-8b9fb8ec7c4e",
   "metadata": {},
   "outputs": [
    {
     "name": "stdin",
     "output_type": "stream",
     "text": [
      "Enter the first angle:  100\n",
      "Enter the second angle:  100\n",
      "Enter the third angle:  90\n",
      "Enter the fourth angle:  70\n",
      "Enter the length of side 1:  20\n",
      "Enter the length of side 2:  20\n",
      "Enter the length of side 3:  20\n",
      "Enter the length of side 4:  20\n"
     ]
    },
    {
     "name": "stdout",
     "output_type": "stream",
     "text": [
      "Quadrilateral is a square\n"
     ]
    }
   ],
   "source": [
    "#28. Determining quadrilateral type:\n",
    "\n",
    "angle1 = int(input(\"Enter the first angle: \"))\n",
    "angle2 = int(input(\"Enter the second angle: \"))\n",
    "angle3 = int(input(\"Enter the third angle: \"))\n",
    "angle4 = int(input(\"Enter the fourth angle: \"))\n",
    "\n",
    "side1 = float(input(\"Enter the length of side 1: \"))\n",
    "side2 = float(input(\"Enter the length of side 2: \"))\n",
    "side3 = float(input(\"Enter the length of side 3: \"))\n",
    "side4 = float(input(\"Enter the length of side 4: \"))\n",
    "\n",
    "if angle1 == angle2 == angle3 == angle4 == 90:\n",
    "    print(\"Quadrilateral is a rectangle\")\n",
    "elif angle1 + angle2 + angle3 + angle4 == 360:\n",
    "    if side1 == side2 == side3 == side4:\n",
    "        print(\"Quadrilateral is a square\")\n",
    "    else:\n",
    "        print(\"Quadrilateral is a general quadrilateral\")\n",
    "else:\n",
    "    print(\"Invalid input for a quadrilateral\")"
   ]
  },
  {
   "cell_type": "code",
   "execution_count": 67,
   "id": "9fcf26b4-e0a7-4173-9a0f-e16856988308",
   "metadata": {},
   "outputs": [
    {
     "name": "stdin",
     "output_type": "stream",
     "text": [
      "Enter a month (e.g., January, February):  JUNE\n"
     ]
    },
    {
     "name": "stdout",
     "output_type": "stream",
     "text": [
      "The season for JUNE is Summer.\n"
     ]
    }
   ],
   "source": [
    "#29. Determining season based on month:\n",
    "\n",
    "month = input(\"Enter a month (e.g., January, February): \")\n",
    "\n",
    "if month.lower() in [\"december\", \"january\", \"february\"]:\n",
    "    season = \"Winter\"\n",
    "elif month.lower() in [\"march\", \"april\", \"may\"]:\n",
    "    season = \"Spring\"\n",
    "elif month.lower() in [\"june\", \"july\", \"august\"]:\n",
    "    season = \"Summer\"\n",
    "else:\n",
    "    season = \"Autumn\"\n",
    "\n",
    "print(f\"The season for {month} is {season}.\")"
   ]
  },
  {
   "cell_type": "code",
   "execution_count": 68,
   "id": "1ce86426-2ae0-49c5-8153-17771053c196",
   "metadata": {},
   "outputs": [
    {
     "name": "stdin",
     "output_type": "stream",
     "text": [
      "Enter a year:  2024\n",
      "Enter a month (e.g., January, February):  June\n"
     ]
    },
    {
     "name": "stdout",
     "output_type": "stream",
     "text": [
      "2024 is a leap year.\n",
      "June has 30 days.\n"
     ]
    }
   ],
   "source": [
    "#30. Determining year type and month length:\n",
    "\n",
    "year = int(input(\"Enter a year: \"))\n",
    "month = input(\"Enter a month (e.g., January, February): \")\n",
    "\n",
    "if month.lower() in [\"april\", \"june\", \"september\", \"november\"]:\n",
    "    month_length = 30\n",
    "elif month.lower() == \"february\":\n",
    "    if year % 400 == 0 or (year % 4 == 0 and year % 100 != 0):\n",
    "        month_length = 29\n",
    "    else:\n",
    "        month_length = 28\n",
    "else:\n",
    "    month_length = 31\n",
    "\n",
    "if year % 400 == 0 or (year % 4 == 0 and year % 100 != 0):\n",
    "    year_type = \"leap\"\n",
    "else:\n",
    "    year_type = \"common\"\n",
    "\n",
    "print(f\"{year} is a {year_type} year.\")\n",
    "print(f\"{month} has {month_length} days.\")"
   ]
  },
  {
   "cell_type": "code",
   "execution_count": null,
   "id": "492608ed-818f-470b-a733-0a1df27bd182",
   "metadata": {},
   "outputs": [],
   "source": []
  }
 ],
 "metadata": {
  "kernelspec": {
   "display_name": "Python 3 (ipykernel)",
   "language": "python",
   "name": "python3"
  },
  "language_info": {
   "codemirror_mode": {
    "name": "ipython",
    "version": 3
   },
   "file_extension": ".py",
   "mimetype": "text/x-python",
   "name": "python",
   "nbconvert_exporter": "python",
   "pygments_lexer": "ipython3",
   "version": "3.10.8"
  }
 },
 "nbformat": 4,
 "nbformat_minor": 5
}

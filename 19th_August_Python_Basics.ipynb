{
 "cells": [
  {
   "cell_type": "code",
   "execution_count": 4,
   "id": "dd05ef3f-8528-4d8c-b612-486dc23f069c",
   "metadata": {},
   "outputs": [
    {
     "name": "stdout",
     "output_type": "stream",
     "text": [
      "Values After Swapping, x = 20 and y = 10\n"
     ]
    }
   ],
   "source": [
    "# TOPIC: Python Basic Variable Assignments\n",
    "# 1.Declare two variables, `x` and `y`, and assign them integer values. Swap the values of these variables without using any temporary variable.\n",
    "#-----S-O-L-U-T-I-O-N--------------#\n",
    "#Declaring X and Y with integer 10 and 20 resp.\n",
    "x = 10\n",
    "y = 20\n",
    "#Swapping X and Y ,i.e., x=y and y=x.\n",
    "x, y = y, x\n",
    "\n",
    "print(\"Values After Swapping, x =\", x, \"and y =\", y)"
   ]
  },
  {
   "cell_type": "code",
   "execution_count": 5,
   "id": "36d20e5e-b699-4799-b73f-26210119087b",
   "metadata": {},
   "outputs": [
    {
     "name": "stdin",
     "output_type": "stream",
     "text": [
      "Enter the length of the rectangle:  10\n",
      "Enter the width of the rectangle:  15.5\n"
     ]
    },
    {
     "name": "stdout",
     "output_type": "stream",
     "text": [
      "The area of the rectangle =  155.0\n"
     ]
    }
   ],
   "source": [
    "# TOPIC: Python Basic Variable Assignments\n",
    "# 2. Create a program that calculates the area of a rectangle. Take the length and width as inputs from the user and store them in variables.\n",
    "#Calculate and display the area.\n",
    "#-----S-O-L-U-T-I-O-N--------------#\n",
    "#Declaring Length and Width ,then Getting input from the User using input() function adn for the convenience converting these inputs to FLOAT#\n",
    "length = float(input(\"Enter the length of the rectangle: \"))\n",
    "width = float(input(\"Enter the width of the rectangle: \"))\n",
    "\n",
    "area = length * width\n",
    "\n",
    "print(\"The area of the rectangle = \", area)\n"
   ]
  },
  {
   "cell_type": "code",
   "execution_count": 16,
   "id": "48a71696-0b41-4bbc-89a0-1eb22504c8ab",
   "metadata": {},
   "outputs": [
    {
     "name": "stdin",
     "output_type": "stream",
     "text": [
      "Enter temperature in Celsius:  39\n"
     ]
    },
    {
     "name": "stdout",
     "output_type": "stream",
     "text": [
      "Temperature in Fahrenheit is: 102.2 F\n"
     ]
    }
   ],
   "source": [
    "# TOPIC: Python Basic Variable Assignments\n",
    "#Write a Python program that converts temperatures from Celsius to Fahrenheit. Take the temperature in Celsius as input, store it in a variable,\n",
    "#convert it to Fahrenheit, and display the result.\n",
    "#-----S-O-L-U-T-I-O-N--------------#\n",
    "#Delaring a variable for Celsius and Fahrenheit ,For Celsius we are getting input from the User adn then converting it to Fahrenheit\n",
    "#using the below formula.\n",
    "Celsius = float(input(\"Enter temperature in Celsius: \"))\n",
    "\n",
    "Fahrenheit = (Celsius * 1.8) + 32\n",
    "\n",
    "print(\"Temperature in Fahrenheit is:\", Fahrenheit,\"F\")\n",
    "\n"
   ]
  },
  {
   "cell_type": "code",
   "execution_count": 19,
   "id": "280f5549-d7dc-47c2-a64d-99fb9c98abe3",
   "metadata": {},
   "outputs": [
    {
     "name": "stdin",
     "output_type": "stream",
     "text": [
      "ENTER THE STRING: PW SKILLS DATA SCIENCE PRO 2023\n"
     ]
    },
    {
     "name": "stdout",
     "output_type": "stream",
     "text": [
      "The Length of the given String is: 31\n"
     ]
    }
   ],
   "source": [
    "# TOPIC: String Based Questions - Assignments\n",
    "#1. Write a Python program that takes a string as input and prints the length of the string.\n",
    "#-----S-O-L-U-T-I-O-N--------------#\n",
    "\n",
    "#Declaring a Variable as String and getting input from User\n",
    "\n",
    "String = input(\"ENTER THE STRING:\")\n",
    "# To find the length of the String , we can use len function\n",
    "Length = len(String)\n",
    "\n",
    "print(\"The Length of the given String is:\",Length)\n"
   ]
  },
  {
   "cell_type": "code",
   "execution_count": 21,
   "id": "f8131be5-cf34-444d-ad6d-446c20906d5a",
   "metadata": {},
   "outputs": [
    {
     "name": "stdin",
     "output_type": "stream",
     "text": [
      "ENTER THE SENTENCE TO COUNT THE NUMBER OF VOWELS: PW SKiLLS DATa SCIENCE PRo 2023 assignment One Python\n"
     ]
    },
    {
     "name": "stdout",
     "output_type": "stream",
     "text": [
      "The number of vowels in the sentence is 13\n"
     ]
    }
   ],
   "source": [
    "# TOPIC: String Based Questions - Assignments\n",
    "# 2. Create a program that takes a sentence from the user and counts the number of vowels (a, e, i, o, u) in the string.\n",
    "#-----S-O-L-U-T-I-O-N--------------#\n",
    "#Declaring a Variable as Sentence and getting input from User\n",
    "Sentence = input(\"ENTER THE SENTENCE TO COUNT THE NUMBER OF VOWELS:\")\n",
    "\n",
    "Vowels = \"AaEeIiOoUu\"\n",
    "#initialised the variable Count = 0\n",
    "count = 0\n",
    "#Then,we loop through each character in the sentence using a 'for' loop. For each character, we check if it is a vowel by using the 'in' operator to \n",
    "#check if it is in the vowels string. If it is a vowel, we increment the count variable by 1.\n",
    "for char in Sentence:\n",
    "    if char in Vowels:\n",
    "        count += 1\n",
    "\n",
    "print(\"The number of vowels in the sentence is\",count)"
   ]
  },
  {
   "cell_type": "code",
   "execution_count": 23,
   "id": "3332aaa3-8ddc-45c0-98d9-5060f4086344",
   "metadata": {},
   "outputs": [
    {
     "name": "stdin",
     "output_type": "stream",
     "text": [
      "Enter a String: nohtyP - 1 TNEMNGISSA 3202 0RP ECNEICS ATAD SLLIKS WP\n"
     ]
    },
    {
     "name": "stdout",
     "output_type": "stream",
     "text": [
      "The reversed string is PW SKILLS DATA SCIENCE PR0 2023 ASSIGNMENT 1 - Python\n"
     ]
    }
   ],
   "source": [
    "# TOPIC: String Based Questions - Assignments\n",
    "# Given a string, reverse the order of characters using string slicing and print the reversed string.\n",
    "#-----S-O-L-U-T-I-O-N--------------#\n",
    "#Getting a string as input from the user using the input() function and storing it in a variable called String.\n",
    "String = input(\"Enter a String:\")\n",
    "#string slicing to reverse the order of characters in the String\n",
    "Reversed_string = String[::-1]\n",
    "#displying the reversed string\n",
    "print(\"The reversed string is\", Reversed_string)\n"
   ]
  },
  {
   "cell_type": "code",
   "execution_count": 30,
   "id": "0776c313-505a-43ae-8d08-f1a7b2fe2d1d",
   "metadata": {},
   "outputs": [
    {
     "name": "stdin",
     "output_type": "stream",
     "text": [
      "Enter a First string:  MOM\n",
      "Enter a Second string:  GOD\n"
     ]
    },
    {
     "name": "stdout",
     "output_type": "stream",
     "text": [
      "The first string is a palindrome\n",
      "The Second string is not a palindrome\n"
     ]
    }
   ],
   "source": [
    "# TOPIC: String Based Questions - Assignments\n",
    "# 4. Write a program that takes a string as input and checks if it is a palindrome (reads the same forwards and backwards).\n",
    "#-----S-O-L-U-T-I-O-N--------------#\n",
    "#Getting a string as input from the user using the input() function and storing it in a variable called String.\n",
    "string1 = input(\"Enter a First string: \")\n",
    "string2 = input(\"Enter a Second string: \")\n",
    "#string slicing to reverse the order of characters in the string.then check if the original string is equal to its reversed version using an\n",
    "#'if' statement.if they are equal, we print that the string is a palindrome. Else, we print that the string is not a palindrome.\n",
    "if string1 == string1[::-1] and string2 == string2[::-1]:\n",
    "    print(\"Both strings are palindromes\")\n",
    "elif string1 == string1[::-1] and string2 != string2[::-1]:\n",
    "    print(\"The first string is a palindrome\")\n",
    "    print(\"The Second string is not a palindrome\")\n",
    "elif string2 == string2[::-1] and string1 != string1[::-1]:\n",
    "    print(\"The first string is not a palindrome\")\n",
    "    print(\"The Second string is a palindrome\")\n",
    "else:\n",
    "    print(\"Neither string is a palindrome\")\n"
   ]
  },
  {
   "cell_type": "code",
   "execution_count": 32,
   "id": "6e35cbfc-f292-425b-b26d-d44ef93f8264",
   "metadata": {},
   "outputs": [
    {
     "name": "stdin",
     "output_type": "stream",
     "text": [
      "Enter a string:  P W S K I L L S D A T A S C I E N C E P R 0 2 0 2 3\n"
     ]
    },
    {
     "name": "stdout",
     "output_type": "stream",
     "text": [
      "The modified string without spaces is PWSKILLSDATASCIENCEPR02023\n"
     ]
    }
   ],
   "source": [
    "# TOPIC: String Based Questions - Assignments\n",
    "# 5. Create a program that takes a string as input and removes all the spaces from it. Print the modified string without spaces.\n",
    "#-----S-O-L-U-T-I-O-N--------------#\n",
    "#Getting a string as input from the user using the input() function and storing it in a variable called String\n",
    "String = input(\"Enter a string: \")\n",
    "#Using replace() method to remove all the spaces from the string. \n",
    "StringWithoutSpaces = String.replace(\" \", \"\")\n",
    "\n",
    "print(\"The modified string without spaces is\", StringWithoutSpaces)"
   ]
  },
  {
   "cell_type": "code",
   "execution_count": null,
   "id": "58a76ff5-c591-4249-a92b-207e9f5979bd",
   "metadata": {},
   "outputs": [],
   "source": []
  }
 ],
 "metadata": {
  "kernelspec": {
   "display_name": "Python 3 (ipykernel)",
   "language": "python",
   "name": "python3"
  },
  "language_info": {
   "codemirror_mode": {
    "name": "ipython",
    "version": 3
   },
   "file_extension": ".py",
   "mimetype": "text/x-python",
   "name": "python",
   "nbconvert_exporter": "python",
   "pygments_lexer": "ipython3",
   "version": "3.10.8"
  }
 },
 "nbformat": 4,
 "nbformat_minor": 5
}

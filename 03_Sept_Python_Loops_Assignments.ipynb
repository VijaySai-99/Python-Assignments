{
 "cells": [
  {
   "cell_type": "code",
   "execution_count": 112,
   "id": "ef2d2178-7cde-4256-83f7-2d78435f214e",
   "metadata": {},
   "outputs": [
    {
     "name": "stdout",
     "output_type": "stream",
     "text": [
      "1\n",
      "2\n",
      "3\n",
      "4\n",
      "5\n",
      "6\n",
      "7\n",
      "8\n",
      "9\n",
      "10\n"
     ]
    }
   ],
   "source": [
    "###PYTHON LOOPS - ASSIGNMENTS \n",
    "\n",
    "#Basic Level:\n",
    "#1. Print numbers 1 to 10:\n",
    "\n",
    "for i in range(1, 11):\n",
    "    print(i)"
   ]
  },
  {
   "cell_type": "code",
   "execution_count": 113,
   "id": "6c87eee5-c8ec-44c0-915c-1e1c9c3cc92a",
   "metadata": {},
   "outputs": [
    {
     "name": "stdout",
     "output_type": "stream",
     "text": [
      "Sum of numbers: 15\n"
     ]
    }
   ],
   "source": [
    "#2. Calculate sum of list elements:\n",
    "\n",
    "numbers = [1, 2, 3, 4, 5]\n",
    "total = 0\n",
    "for num in numbers:\n",
    "    total += num\n",
    "print(f\"Sum of numbers: {total}\")"
   ]
  },
  {
   "cell_type": "code",
   "execution_count": 114,
   "id": "b5d4c914-7176-4e3c-9a27-42ea256ca0a9",
   "metadata": {},
   "outputs": [
    {
     "name": "stdout",
     "output_type": "stream",
     "text": [
      "!\n",
      "d\n",
      "l\n",
      "r\n",
      "o\n",
      "w\n",
      " \n",
      "o\n",
      "l\n",
      "l\n",
      "e\n",
      "H\n"
     ]
    }
   ],
   "source": [
    "#3. Print string characters in reverse:\n",
    "\n",
    "text = \"Hello world!\"\n",
    "for char in text[::-1]:\n",
    "    print(char)"
   ]
  },
  {
   "cell_type": "code",
   "execution_count": 115,
   "id": "b2b15b38-d9c1-44ef-bd4c-66ca1af6d6bb",
   "metadata": {},
   "outputs": [
    {
     "name": "stdout",
     "output_type": "stream",
     "text": [
      "Factorial of 5: 120\n"
     ]
    }
   ],
   "source": [
    "#4. Calculate factorial:\n",
    "\n",
    "def factorial(n):\n",
    "    if n == 0:\n",
    "        return 1\n",
    "    else:\n",
    "        result = 1\n",
    "        for i in range(1, n + 1):\n",
    "            result *= i\n",
    "        return result\n",
    "\n",
    "number = 5\n",
    "print(f\"Factorial of {number}: {factorial(number)}\")"
   ]
  },
  {
   "cell_type": "code",
   "execution_count": 116,
   "id": "ec54d402-007d-48f0-835f-9cfc7fa35410",
   "metadata": {},
   "outputs": [
    {
     "name": "stdout",
     "output_type": "stream",
     "text": [
      "7 x 1 = 7\n",
      "7 x 2 = 14\n",
      "7 x 3 = 21\n",
      "7 x 4 = 28\n",
      "7 x 5 = 35\n",
      "7 x 6 = 42\n",
      "7 x 7 = 49\n",
      "7 x 8 = 56\n",
      "7 x 9 = 63\n",
      "7 x 10 = 70\n"
     ]
    }
   ],
   "source": [
    "#5. Print multiplication table:\n",
    "\n",
    "def multiplication_table(num):\n",
    "    for i in range(1, 11):\n",
    "        print(f\"{num} x {i} = {num * i}\")\n",
    "\n",
    "number = 7\n",
    "multiplication_table(number)"
   ]
  },
  {
   "cell_type": "code",
   "execution_count": 117,
   "id": "dab6b294-bf8d-42bc-9967-171b20bdd38d",
   "metadata": {},
   "outputs": [
    {
     "name": "stdout",
     "output_type": "stream",
     "text": [
      "Even numbers: 3\n",
      "Odd numbers: 3\n"
     ]
    }
   ],
   "source": [
    "#6. Count even and odd numbers:\n",
    "\n",
    "numbers = [1, 2, 3, 4, 5, 6]\n",
    "even_count, odd_count = 0, 0\n",
    "for num in numbers:\n",
    "    if num % 2 == 0:\n",
    "        even_count += 1\n",
    "    else:\n",
    "        odd_count += 1\n",
    "print(f\"Even numbers: {even_count}\")\n",
    "print(f\"Odd numbers: {odd_count}\")"
   ]
  },
  {
   "cell_type": "code",
   "execution_count": 118,
   "id": "f038087e-dd1c-4215-bfd4-1b9bf6dc023a",
   "metadata": {},
   "outputs": [
    {
     "name": "stdout",
     "output_type": "stream",
     "text": [
      "1^2 = 1\n",
      "2^2 = 4\n",
      "3^2 = 9\n",
      "4^2 = 16\n",
      "5^2 = 25\n"
     ]
    }
   ],
   "source": [
    "#7. Print squares of numbers:\n",
    "\n",
    "for i in range(1, 6):\n",
    "    square = i * i\n",
    "    print(f\"{i}^2 = {square}\")\n"
   ]
  },
  {
   "cell_type": "code",
   "execution_count": 119,
   "id": "7208cfec-fcd8-4eb9-b197-0b8cd5d03e1a",
   "metadata": {},
   "outputs": [
    {
     "name": "stdout",
     "output_type": "stream",
     "text": [
      "Length of text: 18\n"
     ]
    }
   ],
   "source": [
    "#8. Calculate string length without len():\n",
    "\n",
    "text = \"Python Programming\"\n",
    "length = 0\n",
    "for _ in text:\n",
    "    length += 1\n",
    "print(f\"Length of text: {length}\")"
   ]
  },
  {
   "cell_type": "code",
   "execution_count": 120,
   "id": "59883bda-cd9a-48b7-929e-ae7286736542",
   "metadata": {},
   "outputs": [
    {
     "name": "stdout",
     "output_type": "stream",
     "text": [
      "Average of numbers: 6.0\n"
     ]
    }
   ],
   "source": [
    "#9. Calculate average of list elements:\n",
    "\n",
    "numbers = [2, 4, 6, 8, 10]\n",
    "total = 0\n",
    "for num in numbers:\n",
    "    total += num\n",
    "average = total / len(numbers)\n",
    "print(f\"Average of numbers: {average}\")"
   ]
  },
  {
   "cell_type": "code",
   "execution_count": 121,
   "id": "d5f62029-9db6-49e8-80e9-7cba93af0836",
   "metadata": {},
   "outputs": [
    {
     "name": "stdout",
     "output_type": "stream",
     "text": [
      "0\n",
      "1\n",
      "1\n",
      "2\n",
      "3\n",
      "5\n",
      "8\n",
      "13\n",
      "21\n",
      "34\n"
     ]
    }
   ],
   "source": [
    "#10. Print the first n Fibonacci numbers:\n",
    "\n",
    "def fibonacci(n):\n",
    "    if n <= 1:\n",
    "        return n\n",
    "    else:\n",
    "        return fibonacci(n-1) + fibonacci(n-2)\n",
    "\n",
    "n = 10\n",
    "for i in range(n):\n",
    "    print(fibonacci(i))"
   ]
  },
  {
   "cell_type": "code",
   "execution_count": 122,
   "id": "fa4ab7ba-0be5-4058-bc5d-6e72b4cd1a2a",
   "metadata": {},
   "outputs": [
    {
     "name": "stdout",
     "output_type": "stream",
     "text": [
      "List has duplicates: True\n"
     ]
    }
   ],
   "source": [
    "#Intermediate Level:\n",
    "\n",
    "#11. Check for duplicates in list:\n",
    "\n",
    "def has_duplicates(data):\n",
    "#    \"\"\"Checks if a list contains any duplicates.\"\"\"\n",
    "    list = set()\n",
    "    for item in data:\n",
    "        if item in list:\n",
    "            return True\n",
    "        else:\n",
    "            list.add(item)\n",
    "    return False\n",
    "\n",
    "data = [1, 2, 3, 2, 4]\n",
    "print(f\"List has duplicates: {has_duplicates(data)}\")"
   ]
  },
  {
   "cell_type": "code",
   "execution_count": 123,
   "id": "d872ef33-36e2-497e-8eb4-1b041195b88f",
   "metadata": {},
   "outputs": [
    {
     "name": "stdout",
     "output_type": "stream",
     "text": [
      "11\n",
      "13\n",
      "17\n",
      "19\n"
     ]
    }
   ],
   "source": [
    "#12. Print prime numbers in range:\n",
    "\n",
    "def is_prime(num):\n",
    "    \"\"\"Checks if a number is prime.\"\"\"\n",
    "    if num <= 1:\n",
    "        return False\n",
    "    for i in range(2, num):\n",
    "        if num % i == 0:\n",
    "            return False\n",
    "    return True\n",
    "\n",
    "start = 10\n",
    "end = 20\n",
    "for num in range(start, end + 1):\n",
    "    if is_prime(num):\n",
    "        print(num)"
   ]
  },
  {
   "cell_type": "code",
   "execution_count": 124,
   "id": "38b2ab0a-4cce-4a3d-9f2b-41dbbebeb1b9",
   "metadata": {},
   "outputs": [
    {
     "name": "stdout",
     "output_type": "stream",
     "text": [
      "Number of vowels: 4\n"
     ]
    }
   ],
   "source": [
    "#13. Count the number of vowels in a string:\n",
    "\n",
    "def count_vowels(text):\n",
    "    \"\"\"Counts the number of vowels in a string.\"\"\"\n",
    "    vowels = \"aeiou\"\n",
    "    count = 0\n",
    "    for char in text:\n",
    "        if char.lower() in vowels:\n",
    "            count += 1\n",
    "    return count\n",
    "\n",
    "text = \"Python Programming\"\n",
    "vowel_count = count_vowels(text)\n",
    "print(f\"Number of vowels: {vowel_count}\")"
   ]
  },
  {
   "cell_type": "code",
   "execution_count": 125,
   "id": "4073141e-c5a6-4eb9-995b-735f4b20d948",
   "metadata": {},
   "outputs": [
    {
     "name": "stdout",
     "output_type": "stream",
     "text": [
      "Maximum element: 9\n"
     ]
    }
   ],
   "source": [
    "#14. Find maximum element in 2D list:\n",
    "\n",
    "def find_max(matrix):\n",
    "    \"\"\"Finds the maximum element in a 2D list.\"\"\"\n",
    "    max_value = matrix[0][0]\n",
    "    for row in matrix:\n",
    "        for element in row:\n",
    "            if element > max_value:\n",
    "                max_value = element\n",
    "    return max_value\n",
    "\n",
    "matrix = [[1, 2, 3], [4, 5, 6], [7, 8, 9]]\n",
    "maximum = find_max(matrix)\n",
    "print(f\"Maximum element: {maximum}\")\n"
   ]
  },
  {
   "cell_type": "code",
   "execution_count": 126,
   "id": "417d61f1-83aa-4743-ba35-7641d00e47a7",
   "metadata": {},
   "outputs": [
    {
     "name": "stdout",
     "output_type": "stream",
     "text": [
      "List after removing element: [1, 3, 4]\n"
     ]
    }
   ],
   "source": [
    "#15. Remove all occurrences of a specific element:\n",
    "\n",
    "def remove_element(data, element):\n",
    "    \"\"\"Removes all occurrences of a specific element from a list.\"\"\"\n",
    "    return [item for item in data if item != element]\n",
    "\n",
    "data = [1, 2, 3, 2, 4]\n",
    "element = 2\n",
    "filtered_data = remove_element(data, element)\n",
    "print(f\"List after removing element: {filtered_data}\")\n"
   ]
  },
  {
   "cell_type": "code",
   "execution_count": 127,
   "id": "361231bb-9bff-40b2-9656-3532b1f536f6",
   "metadata": {},
   "outputs": [
    {
     "name": "stdin",
     "output_type": "stream",
     "text": [
      "Enter a number:  13\n"
     ]
    },
    {
     "name": "stdout",
     "output_type": "stream",
     "text": [
      "13 x 1 = 13\n",
      "13 x 2 = 26\n",
      "13 x 3 = 39\n",
      "13 x 4 = 52\n",
      "13 x 5 = 65\n",
      "13 x 6 = 78\n",
      "13 x 7 = 91\n",
      "13 x 8 = 104\n",
      "13 x 9 = 117\n",
      "13 x 10 = 130\n",
      "13 x 11 = 143\n",
      "13 x 12 = 156\n"
     ]
    }
   ],
   "source": [
    "#16. Generate multiplication table:\n",
    "\n",
    "def print_multiplication_table_while(num):\n",
    "    i = 1\n",
    "    while i <= 12:\n",
    "        print(f\"{num} x {i} = {num*i}\")\n",
    "        i += 1\n",
    "\n",
    "user_input = int(input(\"Enter a number: \"))\n",
    "print_multiplication_table_while(user_input)"
   ]
  },
  {
   "cell_type": "code",
   "execution_count": 31,
   "id": "23fb5006-f485-4eef-9e4c-b91ff96bc06f",
   "metadata": {},
   "outputs": [
    {
     "name": "stdout",
     "output_type": "stream",
     "text": [
      "50 F is equal to 10.0 C\n",
      "60 F is equal to 15.555555555555555 C\n",
      "70 F is equal to 21.11111111111111 C\n",
      "80 F is equal to 26.666666666666668 C\n",
      "90 F is equal to 32.22222222222222 C\n"
     ]
    }
   ],
   "source": [
    "#17. Convert Fahrenheit to Celsius:\n",
    "\n",
    "def fahrenheit_to_celsius(fahrenheit):\n",
    "    \"\"\"Converts Fahrenheit temperature to Celsius.\"\"\"\n",
    "    return (fahrenheit - 32) * 5 / 9\n",
    "\n",
    "temperatures = [50, 60, 70, 80, 90]\n",
    "for temp in temperatures:\n",
    "    celsius = fahrenheit_to_celsius(temp)\n",
    "    print(f\"{temp} F is equal to {celsius} C\")"
   ]
  },
  {
   "cell_type": "code",
   "execution_count": 32,
   "id": "dbbe90dc-f921-4c55-b1ab-550314a419c9",
   "metadata": {},
   "outputs": [
    {
     "name": "stdout",
     "output_type": "stream",
     "text": [
      "Common elements: [2, 4]\n"
     ]
    }
   ],
   "source": [
    "#18. Print common elements from two lists:\n",
    "\n",
    "def find_common(list1, list2):\n",
    "    \"\"\"Prints the common elements from two lists.\"\"\"\n",
    "    common_elements = []\n",
    "    for item in list1:\n",
    "        if item in list2:\n",
    "            if item not in common_elements:\n",
    "                common_elements.append(item)\n",
    "    return common_elements\n",
    "\n",
    "list1 = [1, 2, 3, 4, 5]\n",
    "list2 = [2, 4, 6, 8]\n",
    "common = find_common(list1, list2)\n",
    "print(f\"Common elements: {common}\")"
   ]
  },
  {
   "cell_type": "code",
   "execution_count": 47,
   "id": "f8476463-8e88-4cfe-b1ca-f78dfc9fa07c",
   "metadata": {},
   "outputs": [
    {
     "name": "stdout",
     "output_type": "stream",
     "text": [
      ".\n",
      "..\n",
      "...\n",
      "....\n",
      ".....\n"
     ]
    }
   ],
   "source": [
    "#19. Print right-angled triangles:\n",
    "\n",
    "def right_angled_triangle(n):\n",
    "    \"\"\"Prints right-angled triangles using '*'.\n",
    "    \"\"\"\n",
    "    for i in range(1, n + 1):\n",
    "        print(\".\" * i)\n",
    "\n",
    "rows = 5\n",
    "right_angled_triangle(rows)"
   ]
  },
  {
   "cell_type": "code",
   "execution_count": 36,
   "id": "8a996a7b-2a1f-4d53-8dd8-5b015c969a47",
   "metadata": {},
   "outputs": [
    {
     "name": "stdout",
     "output_type": "stream",
     "text": [
      "The GCD is: 6\n"
     ]
    }
   ],
   "source": [
    "#20. Find greatest common divisor:\n",
    "\n",
    "def compute_gcd(x, y):\n",
    "    smaller = min(x, y)\n",
    "    for i in range(1, smaller + 1):\n",
    "        if (x % i == 0) and (y % i == 0):\n",
    "            gcd = i\n",
    "    return gcd\n",
    "\n",
    "num1 = 54\n",
    "num2 = 24\n",
    "print(\"The GCD is:\", compute_gcd(num1, num2))"
   ]
  },
  {
   "cell_type": "code",
   "execution_count": 48,
   "id": "b35bd644-75ff-4485-9f65-33e3dc8c4be9",
   "metadata": {},
   "outputs": [
    {
     "name": "stdout",
     "output_type": "stream",
     "text": [
      "Sum of digits in list: [6, 15, 24]\n"
     ]
    }
   ],
   "source": [
    "#21. Sum of digits in list using list comprehension:\n",
    "\n",
    "numbers = [123, 456, 789]\n",
    "digit_sums = [sum(int(digit) for digit in str(num)) for num in numbers]\n",
    "print(f\"Sum of digits in list: {digit_sums}\")"
   ]
  },
  {
   "cell_type": "code",
   "execution_count": 49,
   "id": "0c0e2da1-6a17-4787-b150-31132aa712b8",
   "metadata": {},
   "outputs": [
    {
     "name": "stdout",
     "output_type": "stream",
     "text": [
      "Prime factors of 36: [2, 2, 3, 3]\n"
     ]
    }
   ],
   "source": [
    "#22. Prime factors of a number:\n",
    "\n",
    "def prime_factors(n):\n",
    "    \"\"\"Finds the prime factors of a given number.\"\"\"\n",
    "    factors = []\n",
    "    for i in range(2, n + 1):\n",
    "        while n % i == 0:\n",
    "            factors.append(i)\n",
    "            n //= i\n",
    "    return factors\n",
    "\n",
    "number = 36\n",
    "prime_factors = prime_factors(number)\n",
    "print(f\"Prime factors of {number}: {prime_factors}\")"
   ]
  },
  {
   "cell_type": "code",
   "execution_count": 50,
   "id": "2b8c854d-569e-44c1-8afa-41e6f3a5baba",
   "metadata": {},
   "outputs": [
    {
     "name": "stdout",
     "output_type": "stream",
     "text": [
      "Unique elements: [1, 2, 3, 4, 5]\n"
     ]
    }
   ],
   "source": [
    "#23. Extracting unique elements:\n",
    "\n",
    "data = [1, 2, 3, 2, 4, 5, 1]\n",
    "unique_elements = list(set(data))\n",
    "print(f\"Unique elements: {unique_elements}\")\n"
   ]
  },
  {
   "cell_type": "code",
   "execution_count": 51,
   "id": "e351e476-a9b6-4407-bd47-9ebd587e212c",
   "metadata": {},
   "outputs": [
    {
     "name": "stdout",
     "output_type": "stream",
     "text": [
      "Palindromic numbers up to 100: [1, 2, 3, 4, 5, 6, 7, 8, 9, 11, 22, 33, 44, 55, 66, 77, 88, 99]\n"
     ]
    }
   ],
   "source": [
    "#24. Palindromic numbers up to a limit:\n",
    "\n",
    "limit = 100\n",
    "palindromes = [num for num in range(1, limit + 1) if str(num) == str(num)[::-1]]\n",
    "print(f\"Palindromic numbers up to {limit}: {palindromes}\")\n"
   ]
  },
  {
   "cell_type": "code",
   "execution_count": 52,
   "id": "2567c222-e0ed-4ea6-9ccf-aa4a4ac3fee1",
   "metadata": {},
   "outputs": [
    {
     "name": "stdout",
     "output_type": "stream",
     "text": [
      "Flattened list: [1, 2, 3, 4, 5, 6, 7, 8, 9]\n"
     ]
    }
   ],
   "source": [
    "#25. Flatten a nested list:\n",
    "\n",
    "nested_list = [[1, 2, 3], [4, 5, 6], [7, 8, 9]]\n",
    "flat_list = [item for sublist in nested_list for item in sublist]\n",
    "print(f\"Flattened list: {flat_list}\")\n"
   ]
  },
  {
   "cell_type": "code",
   "execution_count": 53,
   "id": "335be05a-9ae1-4a0a-9b18-fb74d7c82ca6",
   "metadata": {},
   "outputs": [
    {
     "name": "stdout",
     "output_type": "stream",
     "text": [
      "Sum of even numbers: 12\n",
      "Sum of odd numbers: 9\n"
     ]
    }
   ],
   "source": [
    "#26. Sum of even and odd numbers separately:\n",
    "\n",
    "numbers = [1, 2, 3, 4, 5, 6]\n",
    "even_sum = sum(num for num in numbers if num % 2 == 0)\n",
    "odd_sum = sum(num for num in numbers if num % 2 == 1)\n",
    "print(f\"Sum of even numbers: {even_sum}\")\n",
    "print(f\"Sum of odd numbers: {odd_sum}\")\n"
   ]
  },
  {
   "cell_type": "code",
   "execution_count": 54,
   "id": "23173e5a-36a5-4c0d-a624-18d846ae4e71",
   "metadata": {},
   "outputs": [
    {
     "name": "stdout",
     "output_type": "stream",
     "text": [
      "Squares of odd numbers: [1, 9, 25, 49, 81]\n"
     ]
    }
   ],
   "source": [
    "#27. Squares of odd numbers:\n",
    "\n",
    "squares_of_odd = [num * num for num in range(1, 11) if num % 2 == 1]\n",
    "print(f\"Squares of odd numbers: {squares_of_odd}\")\n"
   ]
  },
  {
   "cell_type": "code",
   "execution_count": 55,
   "id": "41c6da74-23a1-44a7-b4df-b66217298e52",
   "metadata": {},
   "outputs": [
    {
     "name": "stdout",
     "output_type": "stream",
     "text": [
      "Combined dictionary: {'Name': 'John', 'Age': 30, 'City': 'New York'}\n"
     ]
    }
   ],
   "source": [
    "#28. Combining two lists into a dictionary:\n",
    "\n",
    "keys = [\"Name\", \"Age\", \"City\"]\n",
    "values = [\"John\", 30, \"New York\"]\n",
    "combined_dict = {key: value for key, value in zip(keys, values)}\n",
    "print(f\"Combined dictionary: {combined_dict}\")\n"
   ]
  },
  {
   "cell_type": "code",
   "execution_count": 67,
   "id": "06763260-e386-4a2e-980b-1142f309458b",
   "metadata": {},
   "outputs": [
    {
     "name": "stdout",
     "output_type": "stream",
     "text": [
      "Vowels: ['o', 'o', 'a', 'i', 'I']\n"
     ]
    }
   ],
   "source": [
    "#29. Extracting vowels from a string:\n",
    "\n",
    "text = \"Python Programming PWSKILLS\"\n",
    "vowels = [char for char in text if char.lower() in \"aeiou\"]\n",
    "print(f\"Vowels: {vowels}\")\n"
   ]
  },
  {
   "cell_type": "code",
   "execution_count": 66,
   "id": "293882f9-6d01-416d-9a44-f0029d5cafac",
   "metadata": {},
   "outputs": [
    {
     "name": "stdout",
     "output_type": "stream",
     "text": [
      "Cleaned list: ['3020', '123', '136900', '2023']\n"
     ]
    }
   ],
   "source": [
    "#30. Removing non-numeric characters:\n",
    "\n",
    "def remove_non_numeric_loop(input_list):\n",
    "    cleaned_list = []\n",
    "    for input_string in input_list:\n",
    "        cleaned_string = \"\".join(char for char in input_string if char.isdigit())\n",
    "        cleaned_list.append(cleaned_string)\n",
    "    return cleaned_list\n",
    "\n",
    "original_list = [\"aas30dsa20\", \"123abc\", \"A1369BD00\",\"PW2023SKILLS\"]\n",
    "cleaned_list = remove_non_numeric_loop(original_list)\n",
    "print(\"Cleaned list:\", cleaned_list)"
   ]
  },
  {
   "cell_type": "code",
   "execution_count": 70,
   "id": "827a2592-a9e8-4687-86c8-29ab18924cb0",
   "metadata": {},
   "outputs": [
    {
     "name": "stdout",
     "output_type": "stream",
     "text": [
      "Prime numbers up to 100: [2, 3, 5, 7, 11, 13, 17, 19, 23, 29, 31, 37, 41, 43, 47, 53, 59, 61, 67, 71, 73, 79, 83, 89, 97]\n"
     ]
    }
   ],
   "source": [
    "##Challenge Level:\n",
    "#31. Prime numbers using Sieve of Eratosthenes:\n",
    "\n",
    "def sieve_of_eratosthenes(n):\n",
    "    \"\"\"Generates prime numbers using Sieve of Eratosthenes.\"\"\"\n",
    "    primes = list(range(2, n + 1))\n",
    "    for i in range(2, n + 1):\n",
    "        if i in primes:\n",
    "            for j in range(i * i, n + 1, i):\n",
    "                if j in primes:\n",
    "                    primes.remove(j)\n",
    "    return primes\n",
    "\n",
    "limit = 100\n",
    "primes = sieve_of_eratosthenes(limit)\n",
    "print(f\"Prime numbers up to {limit}: {primes}\")"
   ]
  },
  {
   "cell_type": "code",
   "execution_count": 71,
   "id": "6a3591c0-1fb5-4fb7-aa2f-e629be466dbc",
   "metadata": {},
   "outputs": [
    {
     "name": "stdout",
     "output_type": "stream",
     "text": [
      "Pythagorean triplets up to 50: [(3, 4, 5), (5, 12, 13), (6, 8, 10), (7, 24, 25), (8, 15, 17), (9, 12, 15), (9, 40, 41), (10, 24, 26), (12, 16, 20), (12, 35, 37), (14, 48, 50), (15, 20, 25), (15, 36, 39), (16, 30, 34), (18, 24, 30), (20, 21, 29), (20, 48, 52), (21, 28, 35), (24, 32, 40), (24, 45, 51), (27, 36, 45), (28, 45, 53), (30, 40, 50), (33, 44, 55), (36, 48, 60), (40, 42, 58)]\n"
     ]
    }
   ],
   "source": [
    "##32. Pythagorean triplets:\n",
    "\n",
    "def pythagorean_triplets(limit):\n",
    "    \"\"\"Generates Pythagorean triplets up to a specified limit.\"\"\"\n",
    "    triplets = []\n",
    "    for a in range(1, limit):\n",
    "        for b in range(a + 1, limit):\n",
    "            c = (a**2 + b**2)**0.5\n",
    "            if c.is_integer():\n",
    "                triplets.append((a, b, int(c)))\n",
    "    return triplets\n",
    "\n",
    "limit = 50\n",
    "pythagorean_triples = pythagorean_triplets(limit)\n",
    "print(f\"Pythagorean triplets up to {limit}: {pythagorean_triples}\")\n"
   ]
  },
  {
   "cell_type": "code",
   "execution_count": 72,
   "id": "2c89a5c6-5e2c-4be8-9826-dd51f388421c",
   "metadata": {},
   "outputs": [
    {
     "name": "stdout",
     "output_type": "stream",
     "text": [
      "Combinations of lists: [(1, 'a'), (1, 'b'), (2, 'a'), (2, 'b'), (3, 'a'), (3, 'b')]\n"
     ]
    }
   ],
   "source": [
    "##33. All possible combinations of two lists:\n",
    "\n",
    "list1 = [1, 2, 3]\n",
    "list2 = [\"a\", \"b\"]\n",
    "combinations = [(item1, item2) for item1 in list1 for item2 in list2]\n",
    "print(f\"Combinations of lists: {combinations}\")\n"
   ]
  },
  {
   "cell_type": "code",
   "execution_count": 73,
   "id": "961d2c69-f587-447b-9634-6fe37e07b51b",
   "metadata": {},
   "outputs": [
    {
     "name": "stdout",
     "output_type": "stream",
     "text": [
      "Mean: 2.857142857142857\n",
      "Median: 3\n",
      "Mode: 2\n"
     ]
    }
   ],
   "source": [
    "#34. Mean, median, and mode of a list:\n",
    "\n",
    "data = [1, 2, 3, 4, 5, 3, 2]\n",
    "mean = sum(data) / len(data)\n",
    "median = sorted(data)[len(data) // 2]\n",
    "mode = max(set(data), key=data.count)\n",
    "print(f\"Mean: {mean}\")\n",
    "print(f\"Median: {median}\")\n",
    "print(f\"Mode: {mode}\")\n"
   ]
  },
  {
   "cell_type": "code",
   "execution_count": 88,
   "id": "2d21def4-32c1-4fc9-bb93-6836bead2268",
   "metadata": {},
   "outputs": [
    {
     "name": "stdin",
     "output_type": "stream",
     "text": [
      "Enter number of rows:  6\n"
     ]
    },
    {
     "name": "stdout",
     "output_type": "stream",
     "text": [
      "Pascal's triangle of 6 rows is\n",
      "                        1 \n",
      "                     1      1 \n",
      "                  1      2      1 \n",
      "               1      3      3      1 \n",
      "            1      4      6      4      1 \n",
      "         1      5     10     10      5      1 \n"
     ]
    }
   ],
   "source": [
    "#35. Pascal's triangle:\n",
    "\n",
    "n=int(input(\"Enter number of rows: \"))\n",
    "a=[]\n",
    "for i in range(n):\n",
    "    a.append([])\n",
    "    a[i].append(1)\n",
    "    for j in range(1,i):\n",
    "        a[i].append(a[i-1][j-1]+a[i-1][j])\n",
    "    if(n!=0):\n",
    "        a[i].append(1)\n",
    "print(\"Pascal's triangle of\",n,\"rows is\")\n",
    "for i in range(n):\n",
    "    print(\"   \"*(n-i),end=\" \",sep=\" \")\n",
    "    for j in range(0,i+1):\n",
    "        print('{0:6}'.format(a[i][j]),end=\" \",sep=\" \")\n",
    "    print()\n"
   ]
  },
  {
   "cell_type": "code",
   "execution_count": 91,
   "id": "85e98d66-5869-4302-9e65-42bd80878940",
   "metadata": {},
   "outputs": [
    {
     "name": "stdout",
     "output_type": "stream",
     "text": [
      "Sum of digits of factorials: [1, 2, 6, 6, 3]\n"
     ]
    }
   ],
   "source": [
    "#36. Sum of digits of factorials:\n",
    "\n",
    "def digit_sum_factorial(n):\n",
    "    \"\"\"Calculates the sum of digits of factorial.\"\"\"\n",
    "    factorial = 1\n",
    "    for i in range(2, n + 1):\n",
    "        factorial *= i\n",
    "    digits_sum = sum(int(digit) for digit in str(factorial))\n",
    "    return digits_sum\n",
    "\n",
    "numbers = range(1, 6)\n",
    "digit_sums = [digit_sum_factorial(num) for num in numbers]\n",
    "print(f\"Sum of digits of factorials: {digit_sums}\")"
   ]
  },
  {
   "cell_type": "code",
   "execution_count": 92,
   "id": "af85ff64-4e6e-43ae-8f67-a05555b0aa69",
   "metadata": {},
   "outputs": [
    {
     "name": "stdout",
     "output_type": "stream",
     "text": [
      "Longest word: quick\n"
     ]
    }
   ],
   "source": [
    "#37. Longest word in a sentence:\n",
    "\n",
    "sentence = \"The quick brown fox jumps over the lazy dog\"\n",
    "longest_word = max(sentence.split(), key=len)\n",
    "print(f\"Longest word: {longest_word}\")"
   ]
  },
  {
   "cell_type": "code",
   "execution_count": 93,
   "id": "39d5c554-f5f1-44d0-9b44-d7339614788f",
   "metadata": {},
   "outputs": [
    {
     "name": "stdout",
     "output_type": "stream",
     "text": [
      "Strings with more than 3 vowels: ['grapefruit']\n"
     ]
    }
   ],
   "source": [
    "#38. Filter strings with more than three vowels:\n",
    "\n",
    "strings = [\"apple\", \"banana\", \"orange\", \"grapefruit\"]\n",
    "vowel_filtered = [word for word in strings if sum(char in \"aeiou\" for char in word.lower()) > 3]\n",
    "print(f\"Strings with more than 3 vowels: {vowel_filtered}\")"
   ]
  },
  {
   "cell_type": "code",
   "execution_count": 94,
   "id": "86546739-37b8-40ae-9b82-b70e084fe679",
   "metadata": {},
   "outputs": [
    {
     "name": "stdout",
     "output_type": "stream",
     "text": [
      "Sum of digits from 1 to 1000: 13501\n"
     ]
    }
   ],
   "source": [
    "#39. Sum of digits of numbers from 1 to 1000:\n",
    "digit_sums = [sum(int(digit) for digit in str(num)) for num in range(1, 1001)]\n",
    "total_sum = sum(digit_sums)\n",
    "print(f\"Sum of digits from 1 to 1000: {total_sum}\")"
   ]
  },
  {
   "cell_type": "code",
   "execution_count": 110,
   "id": "87c80e4b-b563-4477-b68a-af917f7fb17d",
   "metadata": {},
   "outputs": [
    {
     "name": "stdin",
     "output_type": "stream",
     "text": [
      "Enter the limit for prime palindromic numbers:  100000\n"
     ]
    },
    {
     "name": "stdout",
     "output_type": "stream",
     "text": [
      "Prime palindromic numbers up to 100000: [2, 3, 5, 7, 11, 101, 131, 151, 181, 191, 313, 353, 373, 383, 727, 757, 787, 797, 919, 929, 10301, 10501, 10601, 11311, 11411, 12421, 12721, 12821, 13331, 13831, 13931, 14341, 14741, 15451, 15551, 16061, 16361, 16561, 16661, 17471, 17971, 18181, 18481, 19391, 19891, 19991, 30103, 30203, 30403, 30703, 30803, 31013, 31513, 32323, 32423, 33533, 34543, 34843, 35053, 35153, 35353, 35753, 36263, 36563, 37273, 37573, 38083, 38183, 38783, 39293, 70207, 70507, 70607, 71317, 71917, 72227, 72727, 73037, 73237, 73637, 74047, 74747, 75557, 76367, 76667, 77377, 77477, 77977, 78487, 78787, 78887, 79397, 79697, 79997, 90709, 91019, 93139, 93239, 93739, 94049, 94349, 94649, 94849, 94949, 95959, 96269, 96469, 96769, 97379, 97579, 97879, 98389, 98689]\n"
     ]
    }
   ],
   "source": [
    "#40. Generate a list of prime palindromic numbers using list comprehension.\n",
    "\n",
    "def is_prime(n):\n",
    "    \"\"\"Checks if a number is prime.\"\"\"\n",
    "    if n <= 1:\n",
    "        return False\n",
    "    for i in range(2, int(n**0.5) + 1):\n",
    "        if n % i == 0:\n",
    "            return False\n",
    "    return True\n",
    "\n",
    "def is_palindrome(n):\n",
    "    \"\"\"Checks if a number is a palindrome.\"\"\"\n",
    "    return str(n) == str(n)[::-1]\n",
    "\n",
    "# Get the limit from the user\n",
    "try:\n",
    "    limit = int(input(\"Enter the limit for prime palindromic numbers: \"))\n",
    "    if limit <= 0:\n",
    "        print(\"Please enter a positive integer.\")\n",
    "    else:\n",
    "        prime_palindromes = [num for num in range(1, limit) if is_prime(num) and is_palindrome(num)]\n",
    "        print(f\"Prime palindromic numbers up to {limit}: {prime_palindromes}\")\n",
    "except ValueError:\n",
    "    print(\"Invalid input. Please enter a valid positive integer.\")"
   ]
  },
  {
   "cell_type": "code",
   "execution_count": null,
   "id": "52f7c7ab-717a-4ee5-8153-565bfdf41cdd",
   "metadata": {},
   "outputs": [],
   "source": []
  },
  {
   "cell_type": "code",
   "execution_count": null,
   "id": "72b8b02a-adc7-4d21-bb45-52a85632f298",
   "metadata": {},
   "outputs": [],
   "source": []
  },
  {
   "cell_type": "code",
   "execution_count": null,
   "id": "dd3fb8ef-facc-4624-97e0-cf50b3152af4",
   "metadata": {},
   "outputs": [],
   "source": []
  }
 ],
 "metadata": {
  "kernelspec": {
   "display_name": "Python 3 (ipykernel)",
   "language": "python",
   "name": "python3"
  },
  "language_info": {
   "codemirror_mode": {
    "name": "ipython",
    "version": 3
   },
   "file_extension": ".py",
   "mimetype": "text/x-python",
   "name": "python",
   "nbconvert_exporter": "python",
   "pygments_lexer": "ipython3",
   "version": "3.12.1"
  }
 },
 "nbformat": 4,
 "nbformat_minor": 5
}
